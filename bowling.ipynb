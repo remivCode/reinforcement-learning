{
 "cells": [
  {
   "cell_type": "code",
   "execution_count": 10,
   "metadata": {},
   "outputs": [],
   "source": [
    "import gymnasium as gym\n",
    "import ale_py\n",
    "import torch\n",
    "import numpy as np\n",
    "import random\n",
    "from collections import deque\n",
    "\n",
    "from a2c import *"
   ]
  },
  {
   "cell_type": "markdown",
   "metadata": {},
   "source": [
    "Setting up variables"
   ]
  },
  {
   "cell_type": "code",
   "execution_count": 11,
   "metadata": {},
   "outputs": [],
   "source": [
    "RANDOM_STATE = 42\n",
    "torch.seed = RANDOM_STATE\n",
    "torch.manual_seed(torch.seed)\n",
    "np.random.seed(torch.seed)\n",
    "random.seed(torch.seed)\n",
    "\n",
    "ENV_NAME = 'ALE/Bowling-ram-v5'"
   ]
  },
  {
   "cell_type": "markdown",
   "metadata": {},
   "source": [
    "Testing environnement"
   ]
  },
  {
   "cell_type": "code",
   "execution_count": 12,
   "metadata": {},
   "outputs": [
    {
     "name": "stdout",
     "output_type": "stream",
     "text": [
      "Initial state: \n",
      "[ 71 255   0   0   0   0   0   0   0   0   0   0 255   0   0   0   0   0\n",
      "   0   0   0   0   0   0   0   0   0   0   0   8  15   0   0   0 170   0\n",
      "   1   0   0   0   1  12 184 247   0   0   6  16  19  13  22  16  10  25\n",
      "  19  13   7   7   5   5   3   3   3   1   1   1   1   0   0   0   0   0\n",
      "   0   0   0   0   0 136 216 132  38  88   0   0   1 255   0 255 128 255\n",
      "   0   0   0   0   0   0   0   2   2   0   8   8   0  34  34   0 136 136\n",
      "   0  34  34   0   8   8   0   2   2   0   0   0   0   0   0   0   0   0\n",
      "  66 243]\n",
      "Observation space: \n",
      "Box(0, 255, (128,), uint8)\n",
      "Action space: Discrete(6)\n",
      "Output from applying action 2 on environment:\n",
      "state:[ 75 255   0   1   0  16   4   4   4   4   4   4 255   0   0   0   0   0\n",
      "   0   0   0   0   0   0   0   0   0   0   0   8  15   0   2   0 170   0\n",
      "   1   0   0   0   1  12 184 247   0   0   0  16  19  13  22  16  10  25\n",
      "  19  13   7   7   5   5   3   3   3   1   1   1   1   0   0   0   0   0\n",
      "   0   0   0   0   0 136 216 132  38  88   0   0   1 255   0 255   0 134\n",
      "   0   0   0   0   0   0   0   2   2   0   8   8   0  34  34   0 136 136\n",
      "   0  34  34   0   8   8   0   2   2   0   0   0   0   0   0   0   0   0\n",
      "  52   7]\n",
      "reward: 0.0\n",
      "done: False\n",
      "truncated: False\n",
      "info: {'lives': 0, 'episode_frame_number': 4, 'frame_number': 4}\n"
     ]
    }
   ],
   "source": [
    "env = gym.make(ENV_NAME)\n",
    "\n",
    "state, _ = env.reset()\n",
    "print(f\"Initial state: \\n{state}\")\n",
    "print(f\"Observation space: \\n{env.observation_space}\")\n",
    "print(f\"Action space: {env.action_space}\")\n",
    "\n",
    "a = env.action_space.sample()\n",
    "event = env.step(a)\n",
    "print('Output from applying action {} on environment:\\nstate:'.format(a) \\\n",
    "      + '{}\\nreward: {}\\ndone: {}\\ntruncated: {}\\ninfo: {}'.format(*event))"
   ]
  },
  {
   "cell_type": "markdown",
   "metadata": {},
   "source": [
    "Defining A2CBatch"
   ]
  },
  {
   "cell_type": "code",
   "execution_count": 13,
   "metadata": {},
   "outputs": [],
   "source": [
    "class A2CBatch(A2C):\n",
    "    def __init__(self, env):\n",
    "        super().__init__(env)\n",
    "        # Overrides the loss function for the actor. Since we are trying batch processing, we need to sum up the losses\n",
    "        self.actorLossFun = lambda probs, advantage: - \\\n",
    "            1 * torch.sum(torch.log(probs) * advantage)\n",
    "\n",
    "    # Trains the agent            \n",
    "    def train(self, epochs=200, gamma=0.99, memory=500, batch=200):\n",
    "        # Stores the info from the training process\n",
    "        info = {}\n",
    "        # Stores the total reward or scores per epoch\n",
    "        scores = []\n",
    "        # The replay buffer for Q-learning with experience replay\n",
    "        replay = deque(maxlen=memory)\n",
    "        for e in range(epochs):\n",
    "            # Resets the environment per epoch\n",
    "            state_, _ = self.env.reset()\n",
    "            # A flag to check if an episode has ended\n",
    "            done = False\n",
    "            # Stores the score per episode\n",
    "            score = 0\n",
    "            # Maximum number of allowed moves per episode\n",
    "            maxMoves = 200\n",
    "            # Stores the information per move in an episode\n",
    "            iterations = []            \n",
    "            # Continue the episode until it ends or the maximum number of episodes has expired\n",
    "            while not done and maxMoves > 0:\n",
    "                # Decrement the number of allowed moves\n",
    "                maxMoves -= 1\n",
    "                # Calculate the probs. for the actions for a given state\n",
    "                policy = self.actor(torch.from_numpy(\n",
    "                    state_).float())\n",
    "                # Choose an action based on their probs.\n",
    "                action = np.random.choice(\n",
    "                    self.numActionSpace, p=policy.detach().numpy())\n",
    "                # Executes an action to the environment\n",
    "                nextState_, reward, done, truncated, _ = self.env.step(action)\n",
    "                # Updates the rewards for the episode\n",
    "                score += reward\n",
    "                # Calculates the value of the current state\n",
    "                value = self.critic(torch.from_numpy(state_).float())\n",
    "                # Calculate the value of the next state\n",
    "                nextValue = torch.Tensor([0.0]) if done else self.critic(\n",
    "                    torch.from_numpy(nextState_).float())\n",
    "                \n",
    "                # Add the experience to the buffer\n",
    "                replay.append((state_, reward, nextValue.item()))\n",
    "                # Add the episode step info\n",
    "                iterations.append(\n",
    "                    (state_, action, reward, nextValue.item() - value.item())) \n",
    "                # Assign next state as current state\n",
    "                state_ = nextState_\n",
    "\n",
    "            # After each episode update the actor model\n",
    "            # Policy Loss\n",
    "            iterations_ = np.asarray(iterations, dtype=object)  \n",
    "            # Calculate the advantage\n",
    "            advantage = torch.Tensor(list(iterations_[:, 2])).float() + torch.pow(gamma, torch.arange(\n",
    "                len(iterations_)).flip(dims=(0, )).float()) * torch.Tensor(list(iterations_[:, 3])).float()\n",
    "\n",
    "            # Store the state info as a batch of states\n",
    "            stateBatch = torch.stack([torch.from_numpy(s).float()\n",
    "                                      for s in iterations_[:, 0]])\n",
    "            # Store the action info as a batch of actions    \n",
    "            actionBatch = torch.Tensor(list(iterations_[:, 1]))\n",
    "            # Feed the state batch to the actor model to calculate the probs of actions for each state in the batch\n",
    "            policy = self.actor(stateBatch)\n",
    "            # Gets the probs of actions actually performed for each state\n",
    "            probs = policy.gather(\n",
    "                dim=1, index=actionBatch.long().unsqueeze(dim=1)).squeeze()\n",
    "\n",
    "            # Policy Loss\n",
    "            actorLoss = self.actorLossFun(probs, advantage)\n",
    "            #Backpropagate policy\n",
    "            self.actorOptim.zero_grad()\n",
    "            actorLoss.backward()\n",
    "            self.actorOptim.step()\n",
    "\n",
    "            # Update the value function if the size of the replay buffer is larger than the specified batch size\n",
    "            if (len(replay) > batch):\n",
    "                # Select a set of random indices to be chosen from the replay buffer \n",
    "                indices = np.random.choice(len(replay), size=batch)\n",
    "                # Extract the experiences from the replay buffer\n",
    "                replay_ = np.asarray(replay, dtype=object)[indices, :]  \n",
    "                # Create a state batch with the excted experiences\n",
    "                stateBatch = torch.stack([torch.from_numpy(s).float()\n",
    "                                          for s in replay_[:, 0]])\n",
    "                # Calculate the value for the extracted states                                        \n",
    "                value = self.critic(stateBatch)                                                \n",
    "                \n",
    "                # Value Loss\n",
    "                criticLoss = self.criticLossFun(\n",
    "                    value, torch.Tensor(list(replay_[\n",
    "                        :, 1] + gamma * replay_[:, 2])).float())\n",
    "                                \n",
    "                #Backpropagate value\n",
    "                self.criticOptim.zero_grad()\n",
    "                criticLoss.backward()\n",
    "                self.criticOptim.step()            \n",
    "                \n",
    "            # Store the total score for the episode\n",
    "            scores.append(score)\n",
    "\n",
    "            # Print the progress\n",
    "            if e % np.round(epochs/10) == 0:\n",
    "                print('episode: {:d}, score: {:.2f}'.format(e, scores[e]))\n",
    "            info[e] = scores[e]\n",
    "\n",
    "        return info"
   ]
  },
  {
   "cell_type": "code",
   "execution_count": 14,
   "metadata": {},
   "outputs": [
    {
     "name": "stdout",
     "output_type": "stream",
     "text": [
      "episode: 0, score: 0.00\n"
     ]
    },
    {
     "name": "stderr",
     "output_type": "stream",
     "text": [
      "c:\\Cours\\UiS\\RL\\Project\\reinforcement-learning\\venv\\lib\\site-packages\\torch\\nn\\modules\\loss.py:608: UserWarning: Using a target size (torch.Size([200])) that is different to the input size (torch.Size([200, 1])). This will likely lead to incorrect results due to broadcasting. Please ensure they have the same size.\n",
      "  return F.mse_loss(input, target, reduction=self.reduction)\n"
     ]
    },
    {
     "name": "stdout",
     "output_type": "stream",
     "text": [
      "episode: 200, score: 0.00\n",
      "episode: 400, score: 0.00\n",
      "episode: 600, score: 0.00\n",
      "episode: 800, score: 0.00\n",
      "episode: 1000, score: 0.00\n",
      "episode: 1200, score: 0.00\n",
      "episode: 1400, score: 0.00\n",
      "episode: 1600, score: 0.00\n",
      "episode: 1800, score: 0.00\n"
     ]
    },
    {
     "data": {
      "image/png": "[encoded data removed]",
      "text/plain": [
       "<Figure size 640x480 with 1 Axes>"
      ]
     },
     "metadata": {},
     "output_type": "display_data"
    },
    {
     "ename": "Error",
     "evalue": "Invalid render mode `None`. Supported modes: `human`, `rgb_array`.",
     "output_type": "error",
     "traceback": [
      "\u001b[1;31m---------------------------------------------------------------------------\u001b[0m",
      "\u001b[1;31mError\u001b[0m                                     Traceback (most recent call last)",
      "Cell \u001b[1;32mIn[14], line 10\u001b[0m\n\u001b[0;32m      8\u001b[0m agent\u001b[38;5;241m.\u001b[39mplot(info_)\n\u001b[0;32m      9\u001b[0m \u001b[38;5;66;03m# Run a test\u001b[39;00m\n\u001b[1;32m---> 10\u001b[0m \u001b[43magent\u001b[49m\u001b[38;5;241;43m.\u001b[39;49m\u001b[43mtest\u001b[49m\u001b[43m(\u001b[49m\u001b[43m)\u001b[49m\n",
      "File \u001b[1;32mc:\\Cours\\UiS\\RL\\Project\\reinforcement-learning\\a2c.py:67\u001b[0m, in \u001b[0;36mA2C.test\u001b[1;34m(self, render)\u001b[0m\n\u001b[0;32m     65\u001b[0m \u001b[38;5;66;03m# If render is true, renders the game to screen\u001b[39;00m\n\u001b[0;32m     66\u001b[0m \u001b[38;5;28;01mif\u001b[39;00m render:\n\u001b[1;32m---> 67\u001b[0m     \u001b[38;5;28;43mself\u001b[39;49m\u001b[38;5;241;43m.\u001b[39;49m\u001b[43menv\u001b[49m\u001b[38;5;241;43m.\u001b[39;49m\u001b[43mrender\u001b[49m\u001b[43m(\u001b[49m\u001b[43m)\u001b[49m\n\u001b[0;32m     68\u001b[0m \u001b[38;5;66;03m# Calculates the probs. for the actions given a state\u001b[39;00m\n\u001b[0;32m     69\u001b[0m policy \u001b[38;5;241m=\u001b[39m \u001b[38;5;28mself\u001b[39m\u001b[38;5;241m.\u001b[39mactor(torch\u001b[38;5;241m.\u001b[39mfrom_numpy(\n\u001b[0;32m     70\u001b[0m     state_)\u001b[38;5;241m.\u001b[39mfloat())\n",
      "File \u001b[1;32mc:\\Cours\\UiS\\RL\\Project\\reinforcement-learning\\venv\\lib\\site-packages\\gymnasium\\wrappers\\common.py:409\u001b[0m, in \u001b[0;36mOrderEnforcing.render\u001b[1;34m(self)\u001b[0m\n\u001b[0;32m    404\u001b[0m \u001b[38;5;28;01mif\u001b[39;00m \u001b[38;5;129;01mnot\u001b[39;00m \u001b[38;5;28mself\u001b[39m\u001b[38;5;241m.\u001b[39m_disable_render_order_enforcing \u001b[38;5;129;01mand\u001b[39;00m \u001b[38;5;129;01mnot\u001b[39;00m \u001b[38;5;28mself\u001b[39m\u001b[38;5;241m.\u001b[39m_has_reset:\n\u001b[0;32m    405\u001b[0m     \u001b[38;5;28;01mraise\u001b[39;00m ResetNeeded(\n\u001b[0;32m    406\u001b[0m         \u001b[38;5;124m\"\u001b[39m\u001b[38;5;124mCannot call `env.render()` before calling `env.reset()`, if this is an intended action, \u001b[39m\u001b[38;5;124m\"\u001b[39m\n\u001b[0;32m    407\u001b[0m         \u001b[38;5;124m\"\u001b[39m\u001b[38;5;124mset `disable_render_order_enforcing=True` on the OrderEnforcer wrapper.\u001b[39m\u001b[38;5;124m\"\u001b[39m\n\u001b[0;32m    408\u001b[0m     )\n\u001b[1;32m--> 409\u001b[0m \u001b[38;5;28;01mreturn\u001b[39;00m \u001b[38;5;28;43msuper\u001b[39;49m\u001b[43m(\u001b[49m\u001b[43m)\u001b[49m\u001b[38;5;241;43m.\u001b[39;49m\u001b[43mrender\u001b[49m\u001b[43m(\u001b[49m\u001b[43m)\u001b[49m\n",
      "File \u001b[1;32mc:\\Cours\\UiS\\RL\\Project\\reinforcement-learning\\venv\\lib\\site-packages\\gymnasium\\core.py:332\u001b[0m, in \u001b[0;36mWrapper.render\u001b[1;34m(self)\u001b[0m\n\u001b[0;32m    330\u001b[0m \u001b[38;5;28;01mdef\u001b[39;00m \u001b[38;5;21mrender\u001b[39m(\u001b[38;5;28mself\u001b[39m) \u001b[38;5;241m-\u001b[39m\u001b[38;5;241m>\u001b[39m RenderFrame \u001b[38;5;241m|\u001b[39m \u001b[38;5;28mlist\u001b[39m[RenderFrame] \u001b[38;5;241m|\u001b[39m \u001b[38;5;28;01mNone\u001b[39;00m:\n\u001b[0;32m    331\u001b[0m \u001b[38;5;250m    \u001b[39m\u001b[38;5;124;03m\"\"\"Uses the :meth:`render` of the :attr:`env` that can be overwritten to change the returned data.\"\"\"\u001b[39;00m\n\u001b[1;32m--> 332\u001b[0m     \u001b[38;5;28;01mreturn\u001b[39;00m \u001b[38;5;28;43mself\u001b[39;49m\u001b[38;5;241;43m.\u001b[39;49m\u001b[43menv\u001b[49m\u001b[38;5;241;43m.\u001b[39;49m\u001b[43mrender\u001b[49m\u001b[43m(\u001b[49m\u001b[43m)\u001b[49m\n",
      "File \u001b[1;32mc:\\Cours\\UiS\\RL\\Project\\reinforcement-learning\\venv\\lib\\site-packages\\gymnasium\\wrappers\\common.py:301\u001b[0m, in \u001b[0;36mPassiveEnvChecker.render\u001b[1;34m(self)\u001b[0m\n\u001b[0;32m    299\u001b[0m \u001b[38;5;28;01mif\u001b[39;00m \u001b[38;5;28mself\u001b[39m\u001b[38;5;241m.\u001b[39mchecked_render \u001b[38;5;129;01mis\u001b[39;00m \u001b[38;5;28;01mFalse\u001b[39;00m:\n\u001b[0;32m    300\u001b[0m     \u001b[38;5;28mself\u001b[39m\u001b[38;5;241m.\u001b[39mchecked_render \u001b[38;5;241m=\u001b[39m \u001b[38;5;28;01mTrue\u001b[39;00m\n\u001b[1;32m--> 301\u001b[0m     \u001b[38;5;28;01mreturn\u001b[39;00m \u001b[43menv_render_passive_checker\u001b[49m\u001b[43m(\u001b[49m\u001b[38;5;28;43mself\u001b[39;49m\u001b[38;5;241;43m.\u001b[39;49m\u001b[43menv\u001b[49m\u001b[43m)\u001b[49m\n\u001b[0;32m    302\u001b[0m \u001b[38;5;28;01melse\u001b[39;00m:\n\u001b[0;32m    303\u001b[0m     \u001b[38;5;28;01mreturn\u001b[39;00m \u001b[38;5;28mself\u001b[39m\u001b[38;5;241m.\u001b[39menv\u001b[38;5;241m.\u001b[39mrender()\n",
      "File \u001b[1;32mc:\\Cours\\UiS\\RL\\Project\\reinforcement-learning\\venv\\lib\\site-packages\\gymnasium\\utils\\passive_env_checker.py:361\u001b[0m, in \u001b[0;36menv_render_passive_checker\u001b[1;34m(env)\u001b[0m\n\u001b[0;32m    355\u001b[0m     \u001b[38;5;28;01melse\u001b[39;00m:\n\u001b[0;32m    356\u001b[0m         \u001b[38;5;28;01massert\u001b[39;00m env\u001b[38;5;241m.\u001b[39mrender_mode \u001b[38;5;129;01mis\u001b[39;00m \u001b[38;5;28;01mNone\u001b[39;00m \u001b[38;5;129;01mor\u001b[39;00m env\u001b[38;5;241m.\u001b[39mrender_mode \u001b[38;5;129;01min\u001b[39;00m render_modes, (\n\u001b[0;32m    357\u001b[0m             \u001b[38;5;124m\"\u001b[39m\u001b[38;5;124mThe environment was initialized successfully however with an unsupported render mode. \u001b[39m\u001b[38;5;124m\"\u001b[39m\n\u001b[0;32m    358\u001b[0m             \u001b[38;5;124mf\u001b[39m\u001b[38;5;124m\"\u001b[39m\u001b[38;5;124mRender mode: \u001b[39m\u001b[38;5;132;01m{\u001b[39;00menv\u001b[38;5;241m.\u001b[39mrender_mode\u001b[38;5;132;01m}\u001b[39;00m\u001b[38;5;124m, modes: \u001b[39m\u001b[38;5;132;01m{\u001b[39;00mrender_modes\u001b[38;5;132;01m}\u001b[39;00m\u001b[38;5;124m\"\u001b[39m\n\u001b[0;32m    359\u001b[0m         )\n\u001b[1;32m--> 361\u001b[0m result \u001b[38;5;241m=\u001b[39m \u001b[43menv\u001b[49m\u001b[38;5;241;43m.\u001b[39;49m\u001b[43mrender\u001b[49m\u001b[43m(\u001b[49m\u001b[43m)\u001b[49m\n\u001b[0;32m    362\u001b[0m \u001b[38;5;28;01mif\u001b[39;00m env\u001b[38;5;241m.\u001b[39mrender_mode \u001b[38;5;129;01mis\u001b[39;00m \u001b[38;5;129;01mnot\u001b[39;00m \u001b[38;5;28;01mNone\u001b[39;00m:\n\u001b[0;32m    363\u001b[0m     _check_render_return(env\u001b[38;5;241m.\u001b[39mrender_mode, result)\n",
      "File \u001b[1;32mc:\\Cours\\UiS\\RL\\Project\\reinforcement-learning\\venv\\lib\\site-packages\\ale_py\\env.py:313\u001b[0m, in \u001b[0;36mAtariEnv.render\u001b[1;34m(self)\u001b[0m\n\u001b[0;32m    311\u001b[0m     \u001b[38;5;28;01mreturn\u001b[39;00m\n\u001b[0;32m    312\u001b[0m \u001b[38;5;28;01melse\u001b[39;00m:\n\u001b[1;32m--> 313\u001b[0m     \u001b[38;5;28;01mraise\u001b[39;00m error\u001b[38;5;241m.\u001b[39mError(\n\u001b[0;32m    314\u001b[0m         \u001b[38;5;124mf\u001b[39m\u001b[38;5;124m\"\u001b[39m\u001b[38;5;124mInvalid render mode `\u001b[39m\u001b[38;5;132;01m{\u001b[39;00m\u001b[38;5;28mself\u001b[39m\u001b[38;5;241m.\u001b[39mrender_mode\u001b[38;5;132;01m}\u001b[39;00m\u001b[38;5;124m`. \u001b[39m\u001b[38;5;124m\"\u001b[39m\n\u001b[0;32m    315\u001b[0m         \u001b[38;5;124m\"\u001b[39m\u001b[38;5;124mSupported modes: `human`, `rgb_array`.\u001b[39m\u001b[38;5;124m\"\u001b[39m\n\u001b[0;32m    316\u001b[0m     )\n",
      "\u001b[1;31mError\u001b[0m: Invalid render mode `None`. Supported modes: `human`, `rgb_array`."
     ]
    }
   ],
   "source": [
    "# Instantiate the agent class.\n",
    "agent = A2CBatch(env)\n",
    "# Train the agent\n",
    "info = agent.train(epochs=2000)\n",
    "# Convert to an numpy array with epochs at axis=0 and scores at axis=1\n",
    "info_ = np.array(list(info.items()))\n",
    "# Plot the scores\n",
    "agent.plot(info_)\n",
    "# Run a test\n",
    "agent.test()"
   ]
  },
  {
   "cell_type": "code",
   "execution_count": null,
   "metadata": {},
   "outputs": [],
   "source": []
  }
 ],
 "metadata": {
  "kernelspec": {
   "display_name": "venv",
   "language": "python",
   "name": "python3"
  },
  "language_info": {
   "codemirror_mode": {
    "name": "ipython",
    "version": 3
   },
   "file_extension": ".py",
   "mimetype": "text/x-python",
   "name": "python",
   "nbconvert_exporter": "python",
   "pygments_lexer": "ipython3",
   "version": "3.9.10"
  }
 },
 "nbformat": 4,
 "nbformat_minor": 2
}
