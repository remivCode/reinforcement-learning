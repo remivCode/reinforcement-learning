{
 "cells": [
  {
   "cell_type": "markdown",
   "metadata": {},
   "source": [
    "# **Solving the Gym Bowling Environnement using an Actor-Critic agent**"
   ]
  },
  {
   "cell_type": "markdown",
   "metadata": {},
   "source": [
    "Adam Aboucaya and Remi Vialleton made this notebook for the Reinforcement Learning course at the University of Stavanger during the first semester of 2024-2025. "
   ]
  },
  {
   "cell_type": "markdown",
   "metadata": {},
   "source": [
    "## **Introduction**"
   ]
  },
  {
   "cell_type": "markdown",
   "metadata": {},
   "source": [
    "## **Setup and imports**"
   ]
  },
  {
   "cell_type": "code",
   "execution_count": 33,
   "metadata": {},
   "outputs": [
    {
     "data": {
      "text/plain": [
       "' %pip install gymnasium ale-py\\n%pip install gymnasium[atari]\\n%pip install gymnasium[accept-rom-license] '"
      ]
     },
     "execution_count": 33,
     "metadata": {},
     "output_type": "execute_result"
    }
   ],
   "source": [
    "\"\"\" %pip install gymnasium ale-py\n",
    "%pip install gymnasium[atari]\n",
    "%pip install gymnasium[accept-rom-license] \"\"\""
   ]
  },
  {
   "cell_type": "code",
   "execution_count": 34,
   "metadata": {},
   "outputs": [],
   "source": [
    "import gymnasium as gym\n",
    "import torch\n",
    "import torch.nn as nn\n",
    "import torch.optim as optim\n",
    "import numpy as np\n",
    "import ale_py\n",
    "from collections import deque\n",
    "import matplotlib.pyplot as plt\n",
    "import random\n",
    "from torch.optim.lr_scheduler import StepLR\n",
    "import os"
   ]
  },
  {
   "cell_type": "code",
   "execution_count": 35,
   "metadata": {},
   "outputs": [],
   "source": [
    "ENV_NAME = 'ALE/Bowling-v5'\n",
    "RANDOM_STATE = 10\n",
    "torch.manual_seed(RANDOM_STATE)\n",
    "np.random.seed(RANDOM_STATE)\n",
    "random.seed(RANDOM_STATE)"
   ]
  },
  {
   "cell_type": "markdown",
   "metadata": {},
   "source": [
    "## **Environment Exploration**"
   ]
  },
  {
   "cell_type": "code",
   "execution_count": 36,
   "metadata": {},
   "outputs": [
    {
     "data": {
      "text/plain": [
       "<matplotlib.image.AxesImage at 0x2bde4baf520>"
      ]
     },
     "execution_count": 36,
     "metadata": {},
     "output_type": "execute_result"
    },
    {
     "data": {
      "image/png": "[encoded data removed]",
      "text/plain": [
       "<Figure size 640x480 with 1 Axes>"
      ]
     },
     "metadata": {},
     "output_type": "display_data"
    }
   ],
   "source": [
    "env = gym.make(ENV_NAME, render_mode='rgb_array')\n",
    "env.reset()\n",
    "obs = env.render()\n",
    "plt.imshow(obs)"
   ]
  },
  {
   "cell_type": "code",
   "execution_count": 37,
   "metadata": {},
   "outputs": [
    {
     "name": "stdout",
     "output_type": "stream",
     "text": [
      "(65, 160, 3)\n"
     ]
    },
    {
     "data": {
      "text/plain": [
       "<matplotlib.image.AxesImage at 0x2bde6df5a00>"
      ]
     },
     "execution_count": 37,
     "metadata": {},
     "output_type": "execute_result"
    },
    {
     "data": {
      "image/png": "[encoded data removed]",
      "text/plain": [
       "<Figure size 640x480 with 1 Axes>"
      ]
     },
     "metadata": {},
     "output_type": "display_data"
    }
   ],
   "source": [
    "vertical_crop_start   = 105   \n",
    "vertical_crop_end     = 170       \n",
    "horizontal_crop_start = 0         \n",
    "horizontal_crop_end   = 160\n",
    "\n",
    "cropped_obs = obs[vertical_crop_start:vertical_crop_end, horizontal_crop_start:horizontal_crop_end]\n",
    "print(cropped_obs.shape)\n",
    "plt.imshow(cropped_obs)"
   ]
  },
  {
   "cell_type": "code",
   "execution_count": 38,
   "metadata": {},
   "outputs": [],
   "source": [
    "class RemoveScoreBoard(gym.ObservationWrapper):\n",
    "  \n",
    "    def __init__(self, env):\n",
    "        super().__init__(env)\n",
    "    \n",
    "    def observation(self, obs):\n",
    "        return obs[vertical_crop_start:vertical_crop_end,\\\n",
    "                   horizontal_crop_start:horizontal_crop_end]\n",
    "    \n",
    "observation_space_shape = cropped_obs.shape"
   ]
  },
  {
   "cell_type": "markdown",
   "metadata": {},
   "source": [
    "## **Overview of the Actor-Critic Model**"
   ]
  },
  {
   "cell_type": "code",
   "execution_count": 39,
   "metadata": {},
   "outputs": [],
   "source": [
    "class Actor(nn.Module):\n",
    "    def __init__(self, state_size, action_size):\n",
    "        super(Actor, self).__init__()\n",
    "        self.fc1 = nn.Linear(state_size, 256)\n",
    "        self.fc2 = nn.Linear(256, 128)\n",
    "        self.fc3 = nn.Linear(128, 64)\n",
    "        self.fc4 = nn.Linear(64, action_size)\n",
    "\n",
    "    def forward(self, x):\n",
    "        x = torch.relu(self.fc1(x))\n",
    "        x = torch.relu(self.fc2(x))\n",
    "        x = torch.relu(self.fc3(x))\n",
    "        x = torch.clamp(x, -10, 10)\n",
    "        return torch.softmax(self.fc4(x), dim=-1)"
   ]
  },
  {
   "cell_type": "code",
   "execution_count": 40,
   "metadata": {},
   "outputs": [],
   "source": [
    "class Critic(nn.Module):\n",
    "    def __init__(self, state_size):\n",
    "        super(Critic, self).__init__()\n",
    "        self.fc1 = nn.Linear(state_size, 256)\n",
    "        self.fc2 = nn.Linear(256, 128)\n",
    "        self.fc3 = nn.Linear(128, 64)\n",
    "        self.fc4 = nn.Linear(64, 1)\n",
    "\n",
    "    def forward(self, x):\n",
    "        x = torch.relu(self.fc1(x))\n",
    "        x = torch.relu(self.fc2(x))\n",
    "        x = torch.relu(self.fc3(x))\n",
    "        return self.fc4(x)\n"
   ]
  },
  {
   "cell_type": "markdown",
   "metadata": {},
   "source": [
    "## **Strategy Used**"
   ]
  },
  {
   "cell_type": "markdown",
   "metadata": {},
   "source": [
    "## **Model Architecture**"
   ]
  },
  {
   "cell_type": "markdown",
   "metadata": {},
   "source": [
    "## **Defining Variables**"
   ]
  },
  {
   "cell_type": "markdown",
   "metadata": {},
   "source": [
    "## **Training Method**"
   ]
  },
  {
   "cell_type": "code",
   "execution_count": null,
   "metadata": {},
   "outputs": [],
   "source": [
    "class A2CAgent:\n",
    "    def __init__(self, env):\n",
    "        self.env = env\n",
    "        self.env.seed = torch.seed\n",
    "        self.state_size = np.prod(observation_space_shape)\n",
    "        self.action_size = env.action_space.n\n",
    "        self.device = torch.device(\"cuda\" if torch.cuda.is_available() else \"cpu\")\n",
    "\n",
    "        self.actor = Actor(self.state_size, self.action_size).to(self.device)\n",
    "        self.critic = Critic(self.state_size).to(self.device)\n",
    "\n",
    "        # Optimizers\n",
    "        self.actor_optimizer = optim.Adam(self.actor.parameters(), lr=0.0001)\n",
    "        self.critic_optimizer = optim.Adam(self.critic.parameters(), lr=0.0001)\n",
    "\n",
    "        # Learning rate schedulers\n",
    "        self.actor_scheduler = StepLR(self.actor_optimizer, step_size=50, gamma=0.9)\n",
    "        self.critic_scheduler = StepLR(self.critic_optimizer, step_size=50, gamma=0.9)\n",
    "\n",
    "        # Exploration and other parameters (optimal : epsilon = 0.45, epsilon_decay=0.96, lr = 0.0001, gamma = 0.97)\n",
    "        self.gamma = 0.97\n",
    "        self.epsilon = 0.35 # Initial exploration\n",
    "        self.epsilon_decay = 0.97\n",
    "        \n",
    "        # Decay rate of exploration\n",
    "        self.epsilon_min = 0.01  # Minimum exploration\n",
    "\n",
    "        # Sliding window for tracking the last 10 scores\n",
    "        self.scores_window = deque(maxlen=10)\n",
    "        \n",
    "        # Directory for saving models\n",
    "        self.save_dir = './saved_models'\n",
    "        os.makedirs(self.save_dir, exist_ok=True)\n",
    "\n",
    "    def save_model(self, epoch, mean_score):\n",
    "        \"\"\"Saves both the actor and critic models to the specified directory.\"\"\"\n",
    "        model_path = os.path.join(self.save_dir, f\"actor_critic_epoch_{epoch}_mean_score_{mean_score:.2f}.pth\")\n",
    "        print(f\"Saving model to {model_path}\")\n",
    "        torch.save({\n",
    "            'actor_state_dict': self.actor.state_dict(),\n",
    "            'critic_state_dict': self.critic.state_dict(),\n",
    "            'actor_optimizer_state_dict': self.actor_optimizer.state_dict(),\n",
    "            'critic_optimizer_state_dict': self.critic_optimizer.state_dict(),\n",
    "            'epoch': epoch,\n",
    "            'mean_score': mean_score\n",
    "        }, model_path)\n",
    "        \n",
    "    def load_model(self, model_path):\n",
    "        \"\"\"Charge les poids de l'actor et du critic depuis le fichier sauvegardé.\"\"\"\n",
    "        map_location = torch.device('cuda' if torch.cuda.is_available() else 'cpu')\n",
    "        checkpoint = torch.load(model_path, map_location=map_location)\n",
    "        self.actor.load_state_dict(checkpoint['actor_state_dict'])\n",
    "        self.critic.load_state_dict(checkpoint['critic_state_dict'])\n",
    "        # Optionnel : si vous voulez reprendre l'entraînement, vous pouvez aussi charger les optimizers\n",
    "        self.actor_optimizer.load_state_dict(checkpoint['actor_optimizer_state_dict'])\n",
    "        self.critic_optimizer.load_state_dict(checkpoint['critic_optimizer_state_dict'])\n",
    "        print(f\"Model loaded from {model_path}\")\n",
    "\n",
    "    def get_action(self, state):\n",
    "        if np.random.rand() <= self.epsilon:\n",
    "            return np.random.choice(self.action_size)  # Random action for exploration\n",
    "        state = torch.from_numpy(state).float().unsqueeze(0).to(self.device)\n",
    "        probs = self.actor(state).detach().cpu().numpy()[0]\n",
    "        action = np.random.choice(self.action_size, p=probs)\n",
    "        return action\n",
    "\n",
    "    def train(self, epochs=200, max_moves=5000, batch_size=128, render=False):\n",
    "        scores = []\n",
    "        info = {\n",
    "            \"epochs\": [],\n",
    "            \"scores\": [],\n",
    "            \"actor_loss\": [],\n",
    "            \"critic_loss\": []\n",
    "        }\n",
    "        buffer = deque(maxlen=1000)  # Buffer for storing transitions\n",
    "        for e in range(epochs):\n",
    "            state, _ = self.env.reset()\n",
    "            state = state.flatten()\n",
    "            done = False\n",
    "            score = 0\n",
    "            max_moves_remaining = max_moves\n",
    "\n",
    "            while not done and max_moves_remaining > 0:\n",
    "\n",
    "                max_moves_remaining -= 1\n",
    "                action = self.get_action(state)\n",
    "                next_state, reward, done, truncated, _ = self.env.step(action)\n",
    "                next_state = next_state.flatten()\n",
    "\n",
    "                # Store the experience in the buffer\n",
    "                buffer.append((state, action, reward, next_state, done))\n",
    "\n",
    "                state = next_state\n",
    "                score += reward\n",
    "\n",
    "            # Update by batch\n",
    "            if len(buffer) >= batch_size:\n",
    "                transitions = random.sample(buffer, batch_size)\n",
    "                states, actions, rewards, next_states, dones = zip(*transitions)\n",
    "                states_tensor = torch.from_numpy(np.array(states)).float().to(self.device)\n",
    "                next_states_tensor = torch.from_numpy(np.array(next_states)).float().to(self.device)\n",
    "                actions_tensor = torch.tensor(actions, dtype=torch.long).to(self.device)\n",
    "                rewards_tensor = torch.tensor(rewards, dtype=torch.float32).to(self.device)\n",
    "                dones_tensor = torch.tensor(dones, dtype=torch.float32).to(self.device)\n",
    "\n",
    "                # Calculate values and advantages\n",
    "                values = self.critic(states_tensor)\n",
    "                next_values = self.critic(next_states_tensor).detach()\n",
    "                advantages = rewards_tensor + self.gamma * next_values * (1 - dones_tensor) - values\n",
    "\n",
    "                probs = self.actor(states_tensor)\n",
    "                log_probs = torch.log(probs[range(batch_size), actions_tensor])\n",
    "                actor_loss = -(log_probs * advantages.detach()).mean()\n",
    "\n",
    "                # Calculate critic loss\n",
    "                critic_loss = (advantages.pow(2)).mean()\n",
    "\n",
    "                # Update actor and critic with gradient clipping\n",
    "                self.actor_optimizer.zero_grad()\n",
    "                actor_loss.backward()\n",
    "                self.actor_optimizer.step()\n",
    "\n",
    "                self.critic_optimizer.zero_grad()\n",
    "                critic_loss.backward()\n",
    "                self.critic_optimizer.step()\n",
    "\n",
    "            # Decay epsilon to reduce exploration\n",
    "            if self.epsilon > self.epsilon_min:\n",
    "                self.epsilon *= self.epsilon_decay\n",
    "\n",
    "            # Add score to the sliding window and calculate the mean\n",
    "            self.scores_window.append(score)\n",
    "            mean_score = np.mean(self.scores_window)\n",
    "\n",
    "            scores.append(score)\n",
    "            info[\"epochs\"].append(e)\n",
    "            info[\"scores\"].append(scores[e])\n",
    "            info[\"actor_loss\"].append(actor_loss.item())\n",
    "            info[\"critic_loss\"].append(critic_loss.item())\n",
    "            print(f'Epoch: {e+1}/{epochs}, Score: {score}, Mean Score (Last 10): {mean_score:.2f}, Actor Loss: {actor_loss.item()}, Critic Loss: {critic_loss.item()}')\n",
    "\n",
    "            # Check if the stopping condition is met (mean_score >= 75)\n",
    "            if mean_score >= 75:\n",
    "                self.save_model(e, mean_score)\n",
    "                break\n",
    "\n",
    "            # Step the schedulers to update the learning rate\n",
    "            self.actor_scheduler.step()\n",
    "            self.critic_scheduler.step()\n",
    "\n",
    "        return info\n",
    "\n",
    "    def test(self, episodes=10, max_moves=5000, render=True):\n",
    "        for e in range(episodes):\n",
    "            state, _ = self.env.reset()\n",
    "            state = state.flatten()\n",
    "            done = False\n",
    "            score = 0\n",
    "            max_moves_remaining = max_moves\n",
    "            while not done and max_moves_remaining > 0:\n",
    "                if render:\n",
    "                    self.env.render()\n",
    "                max_moves_remaining -= 1\n",
    "                action = self.get_action(state)\n",
    "                next_state, reward, done, truncated, _ = self.env.step(action)\n",
    "                next_state = next_state.flatten()\n",
    "                score += reward\n",
    "                state = next_state\n",
    "            print(f'Test Episode: {e+1}/{episodes}, Score: {score}')\n",
    "\n",
    "\n",
    "    def plot(self, info_):\n",
    "        # Sort the scores by epoch\n",
    "        #info_.sort(axis=1)\n",
    "        # Extract the epochs and respective scores\n",
    "        epochs, scores, actor_loss, critic_loss = info_[\"epochs\"], info_[\"scores\"], info_[\"actor_loss\"], info_[\"critic_loss\"]\n",
    "\n",
    "        fig, (ax1, ax2, ax3) = plt.subplots(1, 3, figsize=(10, 4))\n",
    "\n",
    "        ax1.plot(epochs, scores)\n",
    "        ax1.set_title('Scores')\n",
    "        ax1.set_xlabel('episode')\n",
    "        ax1.set_ylabel('score')\n",
    "\n",
    "        ax2.plot(epochs, actor_loss)\n",
    "        ax2.set_title('Actor Loss')\n",
    "        ax2.set_xlabel('episode')\n",
    "        ax2.set_ylabel('loss')\n",
    "\n",
    "        ax3.plot(epochs, critic_loss)\n",
    "        ax3.set_title('Critic Loss')\n",
    "        ax3.set_xlabel('episode')\n",
    "        ax3.set_ylabel('loss')\n",
    "\n",
    "        plt.show()"
   ]
  },
  {
   "cell_type": "code",
   "execution_count": null,
   "metadata": {},
   "outputs": [
    {
     "name": "stdout",
     "output_type": "stream",
     "text": [
      "Training the agent...\n",
      "Epoch: 1/1000, Score: 31.0, Mean Score (Last 10): 31.00, Actor Loss: 0.7392889857292175, Critic Loss: 0.29807955026626587\n",
      "Epoch: 2/1000, Score: 30.0, Mean Score (Last 10): 30.50, Actor Loss: 0.511406660079956, Critic Loss: 0.46351003646850586\n",
      "Epoch: 3/1000, Score: 21.0, Mean Score (Last 10): 27.33, Actor Loss: -1.9245857000350952, Critic Loss: 6.24648904800415\n",
      "Epoch: 4/1000, Score: 25.0, Mean Score (Last 10): 26.75, Actor Loss: 0.16866648197174072, Critic Loss: 0.306784987449646\n",
      "Epoch: 5/1000, Score: 28.0, Mean Score (Last 10): 27.00, Actor Loss: 0.6034197807312012, Critic Loss: 0.1429198831319809\n",
      "Epoch: 6/1000, Score: 39.0, Mean Score (Last 10): 29.00, Actor Loss: 0.3571276366710663, Critic Loss: 0.3472941517829895\n",
      "Epoch: 7/1000, Score: 29.0, Mean Score (Last 10): 29.00, Actor Loss: -0.32850074768066406, Critic Loss: 0.06174492835998535\n",
      "Epoch: 8/1000, Score: 35.0, Mean Score (Last 10): 29.75, Actor Loss: -0.40558022260665894, Critic Loss: 0.13929274678230286\n",
      "Epoch: 9/1000, Score: 34.0, Mean Score (Last 10): 30.22, Actor Loss: -0.0830909013748169, Critic Loss: 0.01490060891956091\n",
      "Epoch: 10/1000, Score: 54.0, Mean Score (Last 10): 32.60, Actor Loss: 0.2619934380054474, Critic Loss: 0.09986524283885956\n",
      "Epoch: 11/1000, Score: 40.0, Mean Score (Last 10): 33.50, Actor Loss: 0.3090418875217438, Critic Loss: 1.018366813659668\n",
      "Epoch: 12/1000, Score: 66.0, Mean Score (Last 10): 37.10, Actor Loss: -0.05558173358440399, Critic Loss: 0.010380323976278305\n",
      "Epoch: 13/1000, Score: 42.0, Mean Score (Last 10): 39.20, Actor Loss: -0.20795133709907532, Critic Loss: 0.03806115686893463\n",
      "Epoch: 14/1000, Score: 56.0, Mean Score (Last 10): 42.30, Actor Loss: -0.17436175048351288, Critic Loss: 0.1527629792690277\n",
      "Epoch: 15/1000, Score: 58.0, Mean Score (Last 10): 45.30, Actor Loss: -0.06257415562868118, Critic Loss: 0.011454584077000618\n",
      "Epoch: 16/1000, Score: 69.0, Mean Score (Last 10): 48.30, Actor Loss: 0.05797703564167023, Critic Loss: 0.010996467433869839\n",
      "Epoch: 17/1000, Score: 38.0, Mean Score (Last 10): 49.20, Actor Loss: 0.1262643039226532, Critic Loss: 0.021853135898709297\n",
      "Epoch: 18/1000, Score: 78.0, Mean Score (Last 10): 53.50, Actor Loss: 0.12334763258695602, Critic Loss: 0.016562310978770256\n",
      "Epoch: 19/1000, Score: 48.0, Mean Score (Last 10): 54.90, Actor Loss: 0.10072165727615356, Critic Loss: 0.5691425800323486\n",
      "Epoch: 20/1000, Score: 49.0, Mean Score (Last 10): 54.40, Actor Loss: -0.18157431483268738, Critic Loss: 0.6460168361663818\n",
      "Epoch: 21/1000, Score: 55.0, Mean Score (Last 10): 55.90, Actor Loss: -0.243147611618042, Critic Loss: 0.05929488316178322\n",
      "Epoch: 22/1000, Score: 47.0, Mean Score (Last 10): 54.00, Actor Loss: -0.08101894706487656, Critic Loss: 0.01755964569747448\n",
      "Epoch: 23/1000, Score: 65.0, Mean Score (Last 10): 56.30, Actor Loss: 0.09870082885026932, Critic Loss: 0.014522826299071312\n",
      "Epoch: 24/1000, Score: 56.0, Mean Score (Last 10): 56.30, Actor Loss: 0.17329047620296478, Critic Loss: 0.33860015869140625\n",
      "Epoch: 25/1000, Score: 56.0, Mean Score (Last 10): 56.10, Actor Loss: 0.08045347034931183, Critic Loss: 0.01788894087076187\n",
      "Epoch: 26/1000, Score: 97.0, Mean Score (Last 10): 58.90, Actor Loss: 0.15026932954788208, Critic Loss: 0.7066062688827515\n",
      "Epoch: 27/1000, Score: 49.0, Mean Score (Last 10): 60.00, Actor Loss: -0.2553732395172119, Critic Loss: 0.3093251883983612\n",
      "Epoch: 28/1000, Score: 60.0, Mean Score (Last 10): 58.20, Actor Loss: -0.1792815625667572, Critic Loss: 0.06926271319389343\n",
      "Epoch: 29/1000, Score: 50.0, Mean Score (Last 10): 58.40, Actor Loss: 0.01335002202540636, Critic Loss: 0.2900630831718445\n",
      "Epoch: 30/1000, Score: 62.0, Mean Score (Last 10): 59.70, Actor Loss: 0.056861698627471924, Critic Loss: 0.011678875423967838\n",
      "Epoch: 31/1000, Score: 50.0, Mean Score (Last 10): 59.20, Actor Loss: 0.19037795066833496, Critic Loss: 0.4358046352863312\n",
      "Epoch: 32/1000, Score: 58.0, Mean Score (Last 10): 60.30, Actor Loss: 0.08550168573856354, Critic Loss: 0.30236920714378357\n",
      "Epoch: 33/1000, Score: 62.0, Mean Score (Last 10): 60.00, Actor Loss: -0.06162562966346741, Critic Loss: 0.009923805482685566\n",
      "Epoch: 34/1000, Score: 66.0, Mean Score (Last 10): 61.00, Actor Loss: -0.10023233294487, Critic Loss: 0.5314337015151978\n",
      "Epoch: 35/1000, Score: 60.0, Mean Score (Last 10): 61.40, Actor Loss: -0.16437353193759918, Critic Loss: 0.04155711829662323\n",
      "Epoch: 36/1000, Score: 48.0, Mean Score (Last 10): 56.50, Actor Loss: -0.05594729632139206, Critic Loss: 0.013243839144706726\n",
      "Epoch: 37/1000, Score: 69.0, Mean Score (Last 10): 58.50, Actor Loss: 0.06789064407348633, Critic Loss: 0.0108604421839118\n",
      "Epoch: 38/1000, Score: 46.0, Mean Score (Last 10): 57.10, Actor Loss: 0.11317923665046692, Critic Loss: 0.028935670852661133\n",
      "Epoch: 39/1000, Score: 48.0, Mean Score (Last 10): 56.90, Actor Loss: 0.09094204753637314, Critic Loss: 0.022710023447871208\n",
      "Epoch: 40/1000, Score: 42.0, Mean Score (Last 10): 54.90, Actor Loss: 0.013243737630546093, Critic Loss: 0.007011603098362684\n",
      "Epoch: 41/1000, Score: 48.0, Mean Score (Last 10): 54.70, Actor Loss: -0.07652691751718521, Critic Loss: 0.011694978922605515\n",
      "Epoch: 42/1000, Score: 38.0, Mean Score (Last 10): 52.70, Actor Loss: -0.11385688185691833, Critic Loss: 0.0224789846688509\n",
      "Epoch: 43/1000, Score: 44.0, Mean Score (Last 10): 50.90, Actor Loss: -0.08022862672805786, Critic Loss: 0.013105131685733795\n",
      "Epoch: 44/1000, Score: 83.0, Mean Score (Last 10): 52.60, Actor Loss: 0.02629144676029682, Critic Loss: 0.00890171155333519\n",
      "Epoch: 45/1000, Score: 56.0, Mean Score (Last 10): 52.20, Actor Loss: 0.07347434014081955, Critic Loss: 0.017452245578169823\n",
      "Epoch: 46/1000, Score: 46.0, Mean Score (Last 10): 52.00, Actor Loss: 0.06753258407115936, Critic Loss: 0.013020494021475315\n",
      "Epoch: 47/1000, Score: 61.0, Mean Score (Last 10): 51.20, Actor Loss: 0.0005260396865196526, Critic Loss: 0.004581321496516466\n",
      "Epoch: 48/1000, Score: 70.0, Mean Score (Last 10): 53.60, Actor Loss: -0.0541476234793663, Critic Loss: 0.011035962961614132\n",
      "Epoch: 49/1000, Score: 57.0, Mean Score (Last 10): 54.50, Actor Loss: -0.08408822119235992, Critic Loss: 0.014534426853060722\n",
      "Epoch: 50/1000, Score: 56.0, Mean Score (Last 10): 55.90, Actor Loss: -0.0013086404651403427, Critic Loss: 0.505282998085022\n",
      "Epoch: 51/1000, Score: 51.0, Mean Score (Last 10): 56.20, Actor Loss: -0.010665897279977798, Critic Loss: 0.005407686810940504\n",
      "Epoch: 52/1000, Score: 71.0, Mean Score (Last 10): 59.50, Actor Loss: 0.014839151874184608, Critic Loss: 0.007793337106704712\n",
      "Epoch: 53/1000, Score: 73.0, Mean Score (Last 10): 62.40, Actor Loss: 0.20128564536571503, Critic Loss: 0.7599682211875916\n",
      "Epoch: 54/1000, Score: 64.0, Mean Score (Last 10): 60.50, Actor Loss: -0.03791588544845581, Critic Loss: 0.006663945037871599\n",
      "Epoch: 55/1000, Score: 63.0, Mean Score (Last 10): 61.20, Actor Loss: -0.05925615131855011, Critic Loss: 0.17362402379512787\n",
      "Epoch: 56/1000, Score: 70.0, Mean Score (Last 10): 63.60, Actor Loss: -0.07496675848960876, Critic Loss: 0.38655781745910645\n",
      "Epoch: 57/1000, Score: 75.0, Mean Score (Last 10): 65.00, Actor Loss: -0.025992676615715027, Critic Loss: 0.007178850471973419\n",
      "Epoch: 58/1000, Score: 52.0, Mean Score (Last 10): 63.20, Actor Loss: 0.026051506400108337, Critic Loss: 0.009330355562269688\n",
      "Epoch: 59/1000, Score: 58.0, Mean Score (Last 10): 63.30, Actor Loss: -0.012407970614731312, Critic Loss: 0.012231636792421341\n",
      "Epoch: 60/1000, Score: 79.0, Mean Score (Last 10): 65.60, Actor Loss: 0.03288668394088745, Critic Loss: 0.01046822126954794\n"
     ]
    }
   ],
   "source": [
    "env = gym.make(ENV_NAME)\n",
    "env = RemoveScoreBoard(env)\n",
    "agent = A2CAgent(env)\n",
    "print(\"Training the agent...\")\n",
    "info = agent.train(epochs=1000, render=False)\n",
    "\n",
    "agent.plot(info)"
   ]
  },
  {
   "cell_type": "markdown",
   "metadata": {},
   "source": [
    "## **Evaluation**"
   ]
  },
  {
   "cell_type": "code",
   "execution_count": null,
   "metadata": {},
   "outputs": [
    {
     "name": "stderr",
     "output_type": "stream",
     "text": [
      "C:\\Users\\rem3D\\AppData\\Local\\Temp\\ipykernel_24620\\1229979987.py:51: FutureWarning: You are using `torch.load` with `weights_only=False` (the current default value), which uses the default pickle module implicitly. It is possible to construct malicious pickle data which will execute arbitrary code during unpickling (See https://github.com/pytorch/pytorch/blob/main/SECURITY.md#untrusted-models for more details). In a future release, the default value for `weights_only` will be flipped to `True`. This limits the functions that could be executed during unpickling. Arbitrary objects will no longer be allowed to be loaded via this mode unless they are explicitly allowlisted by the user via `torch.serialization.add_safe_globals`. We recommend you start setting `weights_only=True` for any use case where you don't have full control of the loaded file. Please open an issue on GitHub for any issues related to this experimental feature.\n",
      "  checkpoint = torch.load(model_path, map_location=map_location)\n"
     ]
    },
    {
     "ename": "RuntimeError",
     "evalue": "Error(s) in loading state_dict for Actor:\n\tsize mismatch for fc1.weight: copying a param with shape torch.Size([256, 100800]) from checkpoint, the shape in current model is torch.Size([256, 31200]).",
     "output_type": "error",
     "traceback": [
      "\u001b[1;31m---------------------------------------------------------------------------\u001b[0m",
      "\u001b[1;31mRuntimeError\u001b[0m                              Traceback (most recent call last)",
      "Cell \u001b[1;32mIn[11], line 3\u001b[0m\n\u001b[0;32m      1\u001b[0m \u001b[38;5;66;03m# Après l'entraînement ou lors du test\u001b[39;00m\n\u001b[0;32m      2\u001b[0m model_path \u001b[38;5;241m=\u001b[39m \u001b[38;5;124m\"\u001b[39m\u001b[38;5;124m./saved_models/actor_critic_epoch_75_mean_score_75.60.pth\u001b[39m\u001b[38;5;124m\"\u001b[39m  \u001b[38;5;66;03m# Chemin vers votre modèle sauvegardé\u001b[39;00m\n\u001b[1;32m----> 3\u001b[0m \u001b[43magent\u001b[49m\u001b[38;5;241;43m.\u001b[39;49m\u001b[43mload_model\u001b[49m\u001b[43m(\u001b[49m\u001b[43mmodel_path\u001b[49m\u001b[43m)\u001b[49m\n\u001b[0;32m      5\u001b[0m \u001b[38;5;66;03m# Ensuite, vous pouvez tester l'agent sur de nouvelles parties\u001b[39;00m\n\u001b[0;32m      6\u001b[0m \u001b[38;5;28mprint\u001b[39m(\u001b[38;5;124m\"\u001b[39m\u001b[38;5;124mTesting the agent...\u001b[39m\u001b[38;5;124m\"\u001b[39m)\n",
      "Cell \u001b[1;32mIn[9], line 52\u001b[0m, in \u001b[0;36mA2CAgent.load_model\u001b[1;34m(self, model_path)\u001b[0m\n\u001b[0;32m     50\u001b[0m map_location \u001b[38;5;241m=\u001b[39m torch\u001b[38;5;241m.\u001b[39mdevice(\u001b[38;5;124m'\u001b[39m\u001b[38;5;124mcuda\u001b[39m\u001b[38;5;124m'\u001b[39m \u001b[38;5;28;01mif\u001b[39;00m torch\u001b[38;5;241m.\u001b[39mcuda\u001b[38;5;241m.\u001b[39mis_available() \u001b[38;5;28;01melse\u001b[39;00m \u001b[38;5;124m'\u001b[39m\u001b[38;5;124mcpu\u001b[39m\u001b[38;5;124m'\u001b[39m)\n\u001b[0;32m     51\u001b[0m checkpoint \u001b[38;5;241m=\u001b[39m torch\u001b[38;5;241m.\u001b[39mload(model_path, map_location\u001b[38;5;241m=\u001b[39mmap_location)\n\u001b[1;32m---> 52\u001b[0m \u001b[38;5;28;43mself\u001b[39;49m\u001b[38;5;241;43m.\u001b[39;49m\u001b[43mactor\u001b[49m\u001b[38;5;241;43m.\u001b[39;49m\u001b[43mload_state_dict\u001b[49m\u001b[43m(\u001b[49m\u001b[43mcheckpoint\u001b[49m\u001b[43m[\u001b[49m\u001b[38;5;124;43m'\u001b[39;49m\u001b[38;5;124;43mactor_state_dict\u001b[39;49m\u001b[38;5;124;43m'\u001b[39;49m\u001b[43m]\u001b[49m\u001b[43m)\u001b[49m\n\u001b[0;32m     53\u001b[0m \u001b[38;5;28mself\u001b[39m\u001b[38;5;241m.\u001b[39mcritic\u001b[38;5;241m.\u001b[39mload_state_dict(checkpoint[\u001b[38;5;124m'\u001b[39m\u001b[38;5;124mcritic_state_dict\u001b[39m\u001b[38;5;124m'\u001b[39m])\n\u001b[0;32m     54\u001b[0m \u001b[38;5;66;03m# Optionnel : si vous voulez reprendre l'entraînement, vous pouvez aussi charger les optimizers\u001b[39;00m\n",
      "File \u001b[1;32mc:\\Cours\\UiS\\RL\\Project\\final\\reinforcement-learning\\venv\\lib\\site-packages\\torch\\nn\\modules\\module.py:2584\u001b[0m, in \u001b[0;36mModule.load_state_dict\u001b[1;34m(self, state_dict, strict, assign)\u001b[0m\n\u001b[0;32m   2576\u001b[0m         error_msgs\u001b[38;5;241m.\u001b[39minsert(\n\u001b[0;32m   2577\u001b[0m             \u001b[38;5;241m0\u001b[39m,\n\u001b[0;32m   2578\u001b[0m             \u001b[38;5;124m\"\u001b[39m\u001b[38;5;124mMissing key(s) in state_dict: \u001b[39m\u001b[38;5;132;01m{}\u001b[39;00m\u001b[38;5;124m. \u001b[39m\u001b[38;5;124m\"\u001b[39m\u001b[38;5;241m.\u001b[39mformat(\n\u001b[0;32m   2579\u001b[0m                 \u001b[38;5;124m\"\u001b[39m\u001b[38;5;124m, \u001b[39m\u001b[38;5;124m\"\u001b[39m\u001b[38;5;241m.\u001b[39mjoin(\u001b[38;5;124mf\u001b[39m\u001b[38;5;124m'\u001b[39m\u001b[38;5;124m\"\u001b[39m\u001b[38;5;132;01m{\u001b[39;00mk\u001b[38;5;132;01m}\u001b[39;00m\u001b[38;5;124m\"\u001b[39m\u001b[38;5;124m'\u001b[39m \u001b[38;5;28;01mfor\u001b[39;00m k \u001b[38;5;129;01min\u001b[39;00m missing_keys)\n\u001b[0;32m   2580\u001b[0m             ),\n\u001b[0;32m   2581\u001b[0m         )\n\u001b[0;32m   2583\u001b[0m \u001b[38;5;28;01mif\u001b[39;00m \u001b[38;5;28mlen\u001b[39m(error_msgs) \u001b[38;5;241m>\u001b[39m \u001b[38;5;241m0\u001b[39m:\n\u001b[1;32m-> 2584\u001b[0m     \u001b[38;5;28;01mraise\u001b[39;00m \u001b[38;5;167;01mRuntimeError\u001b[39;00m(\n\u001b[0;32m   2585\u001b[0m         \u001b[38;5;124m\"\u001b[39m\u001b[38;5;124mError(s) in loading state_dict for \u001b[39m\u001b[38;5;132;01m{}\u001b[39;00m\u001b[38;5;124m:\u001b[39m\u001b[38;5;130;01m\\n\u001b[39;00m\u001b[38;5;130;01m\\t\u001b[39;00m\u001b[38;5;132;01m{}\u001b[39;00m\u001b[38;5;124m\"\u001b[39m\u001b[38;5;241m.\u001b[39mformat(\n\u001b[0;32m   2586\u001b[0m             \u001b[38;5;28mself\u001b[39m\u001b[38;5;241m.\u001b[39m\u001b[38;5;18m__class__\u001b[39m\u001b[38;5;241m.\u001b[39m\u001b[38;5;18m__name__\u001b[39m, \u001b[38;5;124m\"\u001b[39m\u001b[38;5;130;01m\\n\u001b[39;00m\u001b[38;5;130;01m\\t\u001b[39;00m\u001b[38;5;124m\"\u001b[39m\u001b[38;5;241m.\u001b[39mjoin(error_msgs)\n\u001b[0;32m   2587\u001b[0m         )\n\u001b[0;32m   2588\u001b[0m     )\n\u001b[0;32m   2589\u001b[0m \u001b[38;5;28;01mreturn\u001b[39;00m _IncompatibleKeys(missing_keys, unexpected_keys)\n",
      "\u001b[1;31mRuntimeError\u001b[0m: Error(s) in loading state_dict for Actor:\n\tsize mismatch for fc1.weight: copying a param with shape torch.Size([256, 100800]) from checkpoint, the shape in current model is torch.Size([256, 31200])."
     ]
    }
   ],
   "source": [
    "# Après l'entraînement ou lors du test\n",
    "model_path = \"./saved_models/actor_critic_epoch_75_mean_score_75.60.pth\"  # Chemin vers votre modèle sauvegardé\n",
    "agent.load_model(model_path)\n",
    "\n",
    "# Ensuite, vous pouvez tester l'agent sur de nouvelles parties\n",
    "print(\"Testing the agent...\")\n",
    "agent.env = gym.make(ENV_NAME, render_mode=\"human\")\n",
    "agent.test(episodes=20, render=True)"
   ]
  },
  {
   "cell_type": "markdown",
   "metadata": {},
   "source": [
    "## **Results and Analysis**"
   ]
  },
  {
   "cell_type": "markdown",
   "metadata": {},
   "source": [
    "## **Challenges and Improvements**"
   ]
  },
  {
   "cell_type": "markdown",
   "metadata": {},
   "source": [
    "## **Conclusion**"
   ]
  }
 ],
 "metadata": {
  "kernelspec": {
   "display_name": "venv",
   "language": "python",
   "name": "python3"
  },
  "language_info": {
   "codemirror_mode": {
    "name": "ipython",
    "version": 3
   },
   "file_extension": ".py",
   "mimetype": "text/x-python",
   "name": "python",
   "nbconvert_exporter": "python",
   "pygments_lexer": "ipython3",
   "version": "3.9.10"
  }
 },
 "nbformat": 4,
 "nbformat_minor": 2
}
