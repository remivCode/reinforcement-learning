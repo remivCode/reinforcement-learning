{
 "cells": [
  {
   "cell_type": "code",
   "execution_count": 1,
   "metadata": {},
   "outputs": [],
   "source": [
    "import gymnasium as gym\n",
    "import ale_py"
   ]
  },
  {
   "cell_type": "markdown",
   "metadata": {},
   "source": [
    "Setting up variables"
   ]
  },
  {
   "cell_type": "code",
   "execution_count": 4,
   "metadata": {},
   "outputs": [],
   "source": [
    "ENV_NAME = 'ALE/Bowling-ram-v5'"
   ]
  },
  {
   "cell_type": "markdown",
   "metadata": {},
   "source": [
    "Testing environnement"
   ]
  },
  {
   "cell_type": "code",
   "execution_count": 6,
   "metadata": {},
   "outputs": [
    {
     "name": "stdout",
     "output_type": "stream",
     "text": [
      "Initial state: \n",
      "[[[  0   0   0]\n",
      "  [  0   0   0]\n",
      "  [  0   0   0]\n",
      "  ...\n",
      "  [  0   0   0]\n",
      "  [  0   0   0]\n",
      "  [  0   0   0]]\n",
      "\n",
      " [[  0   0   0]\n",
      "  [  0   0   0]\n",
      "  [  0   0   0]\n",
      "  ...\n",
      "  [  0   0   0]\n",
      "  [  0   0   0]\n",
      "  [  0   0   0]]\n",
      "\n",
      " [[  0   0   0]\n",
      "  [  0   0   0]\n",
      "  [  0   0   0]\n",
      "  ...\n",
      "  [  0   0   0]\n",
      "  [  0   0   0]\n",
      "  [  0   0   0]]\n",
      "\n",
      " ...\n",
      "\n",
      " [[180 122  48]\n",
      "  [180 122  48]\n",
      "  [180 122  48]\n",
      "  ...\n",
      "  [180 122  48]\n",
      "  [180 122  48]\n",
      "  [180 122  48]]\n",
      "\n",
      " [[180 122  48]\n",
      "  [180 122  48]\n",
      "  [180 122  48]\n",
      "  ...\n",
      "  [180 122  48]\n",
      "  [180 122  48]\n",
      "  [180 122  48]]\n",
      "\n",
      " [[180 122  48]\n",
      "  [180 122  48]\n",
      "  [180 122  48]\n",
      "  ...\n",
      "  [180 122  48]\n",
      "  [180 122  48]\n",
      "  [180 122  48]]]\n",
      "Observation space: \n",
      "Box(0, 255, (210, 160, 3), uint8)\n",
      "Action space: Discrete(6)\n",
      "Output from applying action 3 on environment:\n",
      "state:[[[  0   0   0]\n",
      "  [  0   0   0]\n",
      "  [  0   0   0]\n",
      "  ...\n",
      "  [  0   0   0]\n",
      "  [  0   0   0]\n",
      "  [  0   0   0]]\n",
      "\n",
      " [[  0   0   0]\n",
      "  [  0   0   0]\n",
      "  [  0   0   0]\n",
      "  ...\n",
      "  [  0   0   0]\n",
      "  [  0   0   0]\n",
      "  [  0   0   0]]\n",
      "\n",
      " [[  0   0   0]\n",
      "  [  0   0   0]\n",
      "  [  0   0   0]\n",
      "  ...\n",
      "  [  0   0   0]\n",
      "  [  0   0   0]\n",
      "  [  0   0   0]]\n",
      "\n",
      " ...\n",
      "\n",
      " [[180 122  48]\n",
      "  [180 122  48]\n",
      "  [180 122  48]\n",
      "  ...\n",
      "  [180 122  48]\n",
      "  [180 122  48]\n",
      "  [180 122  48]]\n",
      "\n",
      " [[180 122  48]\n",
      "  [180 122  48]\n",
      "  [180 122  48]\n",
      "  ...\n",
      "  [180 122  48]\n",
      "  [180 122  48]\n",
      "  [180 122  48]]\n",
      "\n",
      " [[180 122  48]\n",
      "  [180 122  48]\n",
      "  [180 122  48]\n",
      "  ...\n",
      "  [180 122  48]\n",
      "  [180 122  48]\n",
      "  [180 122  48]]]\n",
      "reward: 0.0\n",
      "done: False\n",
      "truncated: False\n",
      "info: {'lives': 0, 'episode_frame_number': 4, 'frame_number': 4}\n"
     ]
    }
   ],
   "source": [
    "env = gym.make(ENV_NAME)\n",
    "\n",
    "state, _ = env.reset()\n",
    "print(f\"Initial state: \\n{state}\")\n",
    "print(f\"Observation space: \\n{env.observation_space}\")\n",
    "print(f\"Action space: {env.action_space}\")\n",
    "\n",
    "a = env.action_space.sample()\n",
    "event = env.step(a)\n",
    "print('Output from applying action {} on environment:\\nstate:'.format(a) \\\n",
    "      + '{}\\nreward: {}\\ndone: {}\\ntruncated: {}\\ninfo: {}'.format(*event))"
   ]
  },
  {
   "cell_type": "code",
   "execution_count": null,
   "metadata": {},
   "outputs": [],
   "source": []
  }
 ],
 "metadata": {
  "kernelspec": {
   "display_name": "venv",
   "language": "python",
   "name": "python3"
  },
  "language_info": {
   "codemirror_mode": {
    "name": "ipython",
    "version": 3
   },
   "file_extension": ".py",
   "mimetype": "text/x-python",
   "name": "python",
   "nbconvert_exporter": "python",
   "pygments_lexer": "ipython3",
   "version": "3.9.10"
  }
 },
 "nbformat": 4,
 "nbformat_minor": 2
}
