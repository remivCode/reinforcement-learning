{
 "cells": [
  {
   "cell_type": "code",
   "execution_count": 1,
   "metadata": {},
   "outputs": [],
   "source": [
    "import gymnasium as gym\n",
    "import ale_py\n",
    "import torch\n",
    "import numpy as np\n",
    "import random"
   ]
  },
  {
   "cell_type": "markdown",
   "metadata": {},
   "source": [
    "Setting up variables"
   ]
  },
  {
   "cell_type": "code",
   "execution_count": 7,
   "metadata": {},
   "outputs": [],
   "source": [
    "RANDOM_STATE = 42\n",
    "torch.seed = RANDOM_STATE\n",
    "torch.manual_seed(torch.seed)\n",
    "np.random.seed(torch.seed)\n",
    "random.seed(torch.seed)\n",
    "\n",
    "ENV_NAME = 'ALE/Bowling-ram-v5'"
   ]
  },
  {
   "cell_type": "markdown",
   "metadata": {},
   "source": [
    "Testing environnement"
   ]
  },
  {
   "cell_type": "code",
   "execution_count": 8,
   "metadata": {},
   "outputs": [
    {
     "name": "stdout",
     "output_type": "stream",
     "text": [
      "Initial state: \n",
      "[ 71 255   0   0   0   0   0   0   0   0   0   0 255   0   0   0   0   0\n",
      "   0   0   0   0   0   0   0   0   0   0   0   8  15   0   0   0 170   0\n",
      "   1   0   0   0   1  12 184 247   0   0   6  16  19  13  22  16  10  25\n",
      "  19  13   7   7   5   5   3   3   3   1   1   1   1   0   0   0   0   0\n",
      "   0   0   0   0   0 136 216 132  38  88   0   0   1 255   0 255 128 255\n",
      "   0   0   0   0   0   0   0   2   2   0   8   8   0  34  34   0 136 136\n",
      "   0  34  34   0   8   8   0   2   2   0   0   0   0   0   0   0   0   0\n",
      "  66 243]\n",
      "Observation space: \n",
      "Box(0, 255, (128,), uint8)\n",
      "Action space: Discrete(6)\n",
      "Output from applying action 2 on environment:\n",
      "state:[ 75 255   0   1   0  16   4   4   4   4   4   4 255   0   0   0   0   0\n",
      "   0   0   0   0   0   0   0   0   0   0   0   8  15   0   2   0 170   0\n",
      "   1   0   0   0   1  12 184 247   0   0   0  16  19  13  22  16  10  25\n",
      "  19  13   7   7   5   5   3   3   3   1   1   1   1   0   0   0   0   0\n",
      "   0   0   0   0   0 136 216 132  38  88   0   0   1 255   0 255   0 134\n",
      "   0   0   0   0   0   0   0   2   2   0   8   8   0  34  34   0 136 136\n",
      "   0  34  34   0   8   8   0   2   2   0   0   0   0   0   0   0   0   0\n",
      "  52   7]\n",
      "reward: 0.0\n",
      "done: False\n",
      "truncated: False\n",
      "info: {'lives': 0, 'episode_frame_number': 4, 'frame_number': 4}\n"
     ]
    }
   ],
   "source": [
    "env = gym.make(ENV_NAME)\n",
    "\n",
    "state, _ = env.reset()\n",
    "print(f\"Initial state: \\n{state}\")\n",
    "print(f\"Observation space: \\n{env.observation_space}\")\n",
    "print(f\"Action space: {env.action_space}\")\n",
    "\n",
    "a = env.action_space.sample()\n",
    "event = env.step(a)\n",
    "print('Output from applying action {} on environment:\\nstate:'.format(a) \\\n",
    "      + '{}\\nreward: {}\\ndone: {}\\ntruncated: {}\\ninfo: {}'.format(*event))"
   ]
  },
  {
   "cell_type": "code",
   "execution_count": null,
   "metadata": {},
   "outputs": [],
   "source": []
  }
 ],
 "metadata": {
  "kernelspec": {
   "display_name": "venv",
   "language": "python",
   "name": "python3"
  },
  "language_info": {
   "codemirror_mode": {
    "name": "ipython",
    "version": 3
   },
   "file_extension": ".py",
   "mimetype": "text/x-python",
   "name": "python",
   "nbconvert_exporter": "python",
   "pygments_lexer": "ipython3",
   "version": "3.9.10"
  }
 },
 "nbformat": 4,
 "nbformat_minor": 2
}
